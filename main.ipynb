{
 "cells": [
  {
   "cell_type": "code",
   "execution_count": 1,
   "metadata": {},
   "outputs": [],
   "source": [
    "from web3 import Web3"
   ]
  },
  {
   "cell_type": "markdown",
   "metadata": {},
   "source": [
    "## Creating an account an interacting with the Ethereum network using Python\n",
    "I am working with an environment that contains the following libraries:\n",
    "- web3\n",
    "- web3[tester]\n",
    "\n",
    "First, I am going to create a fake account:"
   ]
  },
  {
   "cell_type": "code",
   "execution_count": 2,
   "metadata": {},
   "outputs": [
    {
     "data": {
      "text/plain": [
       "'0xFD3d29f0f48341b6Ef5b25Ac6FA6F2cb7f013e42'"
      ]
     },
     "metadata": {},
     "output_type": "display_data"
    },
    {
     "data": {
      "text/plain": [
       "HexBytes('0xa3600e5059817290ffdbeaf6a242fc7b4a53b3813efae533ba068813f4e4d115')"
      ]
     },
     "metadata": {},
     "output_type": "display_data"
    }
   ],
   "source": [
    "w3 = Web3()\n",
    "\n",
    "acct_one = w3.eth.account.create()\n",
    "\n",
    "display(acct_one.address)\n",
    "display(acct_one.key)"
   ]
  },
  {
   "cell_type": "markdown",
   "metadata": {},
   "source": [
    "There are two main components of an account:\n",
    "- Public address: A shareable account number derived from the private key.\n",
    "- Private key: Which equals a password. (Not shareable at all!!)\n",
    "\n",
    "Both are represented as hexadecimal numbers.\n",
    "\n",
    "Let's remember that this account is a fake account.\n",
    "Accounts in general can be used to:\n",
    "- Initiate transactions.\n",
    "- Deploy smart contracts.\n",
    "- Interact with smart contracts.\n",
    "\n",
    "Let's check the balance of our fake account. Let's call it **ACCOUNT ONE**."
   ]
  },
  {
   "cell_type": "code",
   "execution_count": 3,
   "metadata": {},
   "outputs": [
    {
     "data": {
      "text/plain": [
       "1000000000000000000000000"
      ]
     },
     "execution_count": 3,
     "metadata": {},
     "output_type": "execute_result"
    }
   ],
   "source": [
    "w3 = Web3(Web3.EthereumTesterProvider())\n",
    "\n",
    "w3.eth.accounts\n",
    "acct_one = w3.eth.accounts[0]\n",
    "w3.eth.get_balance(acct_one)"
   ]
  },
  {
   "cell_type": "markdown",
   "metadata": {},
   "source": [
    "In order to start making transactions (or simulate them) we need a second account where to send the funds.\n",
    "\n",
    "Let's create a second account that we are going to call **ACCOUNT TWO**."
   ]
  },
  {
   "cell_type": "code",
   "execution_count": 4,
   "metadata": {},
   "outputs": [
    {
     "data": {
      "text/plain": [
       "'0xE25571074AF888fBC9Ba95B29A0007992F0970f4'"
      ]
     },
     "metadata": {},
     "output_type": "display_data"
    },
    {
     "data": {
      "text/plain": [
       "HexBytes('0x81444043179c3b62514dc92cef0e6c5821fcad8bd2d585d918f18cb4223a2dc7')"
      ]
     },
     "metadata": {},
     "output_type": "display_data"
    }
   ],
   "source": [
    "acct_two = w3.eth.account.create()\n",
    "\n",
    "display(acct_two.address)\n",
    "display(acct_two.key)"
   ]
  },
  {
   "cell_type": "markdown",
   "metadata": {},
   "source": [
    "Next, I am going to manually build a transaction:"
   ]
  },
  {
   "cell_type": "code",
   "execution_count": 7,
   "metadata": {},
   "outputs": [],
   "source": [
    "tx = {\n",
    "    'to': acct_one,\n",
    "    'value': 10000,\n",
    "    'gas': 2100,\n",
    "    'gasPrice': w3.eth.get_block('pending')['baseFeePerGas'],\n",
    "    'nonce': 0\n",
    "}\n",
    "\n",
    "#signed = w3.eth.account.sign_transaction(tx, acct_two.key)\n",
    "\n",
    "#tx_hash = w3.eth.send_raw_transaction(signed.rawTransaction)"
   ]
  },
  {
   "cell_type": "markdown",
   "metadata": {},
   "source": [
    "This would throw an error saying we don't have enough gas but it demonstrates how to manually build a transaction.\n",
    "Let's see what some if this data mean:\n",
    "- **gas:** unit of measure of the computational work of running transactions or smart contracts in the Ethereum network. \n",
    "- **gas price:** the amount of Ether you are willing to pay for every unit of gas. usually measured in \"Wei\".\n",
    "- **nonce:** transaction count of the account. it helps to prevent double-spending.\n"
   ]
  }
 ],
 "metadata": {
  "interpreter": {
   "hash": "b321b075f2724d667c30fd422d86b44e3c6eacca57f27c8790a0df15f47bb552"
  },
  "kernelspec": {
   "display_name": "Python 3.8.5 ('env': venv)",
   "language": "python",
   "name": "python3"
  },
  "language_info": {
   "codemirror_mode": {
    "name": "ipython",
    "version": 3
   },
   "file_extension": ".py",
   "mimetype": "text/x-python",
   "name": "python",
   "nbconvert_exporter": "python",
   "pygments_lexer": "ipython3",
   "version": "3.8.5"
  },
  "orig_nbformat": 4
 },
 "nbformat": 4,
 "nbformat_minor": 2
}
